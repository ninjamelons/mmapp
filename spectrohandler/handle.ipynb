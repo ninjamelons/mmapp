{
 "cells": [
  {
   "cell_type": "code",
   "execution_count": 1,
   "metadata": {},
   "outputs": [],
   "source": [
    "import pandas as pd\n",
    "import numpy as np"
   ]
  },
  {
   "cell_type": "code",
   "execution_count": 2,
   "metadata": {},
   "outputs": [],
   "source": [
    "\n",
    "def getSeriesDataframe(title):\n",
    "    csv = '../csv/{}.csv'.format(title)\n",
    "    return pd.read_csv(csv, index_col=False)"
   ]
  },
  {
   "cell_type": "code",
   "execution_count": 3,
   "metadata": {},
   "outputs": [],
   "source": [
    "df = getSeriesDataframe(\"title\")"
   ]
  },
  {
   "cell_type": "code",
   "execution_count": 4,
   "metadata": {},
   "outputs": [
    {
     "data": {
      "text/html": "<div>\n<style scoped>\n    .dataframe tbody tr th:only-of-type {\n        vertical-align: middle;\n    }\n\n    .dataframe tbody tr th {\n        vertical-align: top;\n    }\n\n    .dataframe thead th {\n        text-align: right;\n    }\n</style>\n<table border=\"1\" class=\"dataframe\">\n  <thead>\n    <tr style=\"text-align: right;\">\n      <th></th>\n      <th>title</th>\n      <th>x</th>\n      <th>y</th>\n      <th>1000.57</th>\n      <th>1001.27</th>\n      <th>1001.98</th>\n      <th>1002.68</th>\n      <th>1003.38</th>\n      <th>1004.09</th>\n      <th>1004.79</th>\n      <th>...</th>\n      <th>1022.34</th>\n      <th>1023.04</th>\n      <th>1023.74</th>\n      <th>1024.44</th>\n      <th>1025.14</th>\n      <th>1025.84</th>\n      <th>1026.54</th>\n      <th>1027.24</th>\n      <th>1027.94</th>\n      <th>1028.63</th>\n    </tr>\n  </thead>\n  <tbody>\n    <tr>\n      <th>0</th>\n      <td>title</td>\n      <td>1</td>\n      <td>0</td>\n      <td>116</td>\n      <td>113.667</td>\n      <td>108.000</td>\n      <td>118.667</td>\n      <td>115.667</td>\n      <td>124.333</td>\n      <td>136.000</td>\n      <td>...</td>\n      <td>148.333</td>\n      <td>131.333</td>\n      <td>121.667</td>\n      <td>130.667</td>\n      <td>126.667</td>\n      <td>128.000</td>\n      <td>121.667</td>\n      <td>122.333</td>\n      <td>122.333</td>\n      <td>120.333</td>\n    </tr>\n    <tr>\n      <th>1</th>\n      <td>title</td>\n      <td>0</td>\n      <td>0</td>\n      <td>132</td>\n      <td>132.667</td>\n      <td>116.667</td>\n      <td>119.667</td>\n      <td>123.000</td>\n      <td>142.000</td>\n      <td>143.667</td>\n      <td>...</td>\n      <td>144.000</td>\n      <td>136.667</td>\n      <td>125.000</td>\n      <td>130.667</td>\n      <td>142.667</td>\n      <td>129.667</td>\n      <td>133.000</td>\n      <td>125.333</td>\n      <td>126.667</td>\n      <td>132.667</td>\n    </tr>\n  </tbody>\n</table>\n<p>2 rows × 44 columns</p>\n</div>",
      "text/plain": "   title  x  y  1000.57  1001.27  1001.98  1002.68  1003.38  1004.09  1004.79  \\\n0  title  1  0      116  113.667  108.000  118.667  115.667  124.333  136.000   \n1  title  0  0      132  132.667  116.667  119.667  123.000  142.000  143.667   \n\n   ...  1022.34  1023.04  1023.74  1024.44  1025.14  1025.84  1026.54  \\\n0  ...  148.333  131.333  121.667  130.667  126.667  128.000  121.667   \n1  ...  144.000  136.667  125.000  130.667  142.667  129.667  133.000   \n\n   1027.24  1027.94  1028.63  \n0  122.333  122.333  120.333  \n1  125.333  126.667  132.667  \n\n[2 rows x 44 columns]"
     },
     "execution_count": 4,
     "metadata": {},
     "output_type": "execute_result"
    }
   ],
   "source": [
    "df.head()"
   ]
  },
  {
   "cell_type": "code",
   "execution_count": 5,
   "metadata": {},
   "outputs": [
    {
     "data": {
      "text/html": "<div>\n<style scoped>\n    .dataframe tbody tr th:only-of-type {\n        vertical-align: middle;\n    }\n\n    .dataframe tbody tr th {\n        vertical-align: top;\n    }\n\n    .dataframe thead th {\n        text-align: right;\n    }\n</style>\n<table border=\"1\" class=\"dataframe\">\n  <thead>\n    <tr style=\"text-align: right;\">\n      <th></th>\n      <th>title</th>\n      <th>x</th>\n      <th>y</th>\n      <th>1000.57</th>\n      <th>1001.27</th>\n      <th>1001.98</th>\n      <th>1002.68</th>\n      <th>1003.38</th>\n      <th>1004.09</th>\n      <th>1004.79</th>\n      <th>...</th>\n      <th>1022.34</th>\n      <th>1023.04</th>\n      <th>1023.74</th>\n      <th>1024.44</th>\n      <th>1025.14</th>\n      <th>1025.84</th>\n      <th>1026.54</th>\n      <th>1027.24</th>\n      <th>1027.94</th>\n      <th>1028.63</th>\n    </tr>\n  </thead>\n  <tbody>\n    <tr>\n      <th>0</th>\n      <td>title</td>\n      <td>1</td>\n      <td>0</td>\n      <td>116</td>\n      <td>113.667</td>\n      <td>108.000</td>\n      <td>118.667</td>\n      <td>115.667</td>\n      <td>124.333</td>\n      <td>136.000</td>\n      <td>...</td>\n      <td>148.333</td>\n      <td>131.333</td>\n      <td>121.667</td>\n      <td>130.667</td>\n      <td>126.667</td>\n      <td>128.000</td>\n      <td>121.667</td>\n      <td>122.333</td>\n      <td>122.333</td>\n      <td>120.333</td>\n    </tr>\n    <tr>\n      <th>1</th>\n      <td>title</td>\n      <td>0</td>\n      <td>0</td>\n      <td>132</td>\n      <td>132.667</td>\n      <td>116.667</td>\n      <td>119.667</td>\n      <td>123.000</td>\n      <td>142.000</td>\n      <td>143.667</td>\n      <td>...</td>\n      <td>144.000</td>\n      <td>136.667</td>\n      <td>125.000</td>\n      <td>130.667</td>\n      <td>142.667</td>\n      <td>129.667</td>\n      <td>133.000</td>\n      <td>125.333</td>\n      <td>126.667</td>\n      <td>132.667</td>\n    </tr>\n  </tbody>\n</table>\n<p>2 rows × 44 columns</p>\n</div>",
      "text/plain": "   title  x  y  1000.57  1001.27  1001.98  1002.68  1003.38  1004.09  1004.79  \\\n0  title  1  0      116  113.667  108.000  118.667  115.667  124.333  136.000   \n1  title  0  0      132  132.667  116.667  119.667  123.000  142.000  143.667   \n\n   ...  1022.34  1023.04  1023.74  1024.44  1025.14  1025.84  1026.54  \\\n0  ...  148.333  131.333  121.667  130.667  126.667  128.000  121.667   \n1  ...  144.000  136.667  125.000  130.667  142.667  129.667  133.000   \n\n   1027.24  1027.94  1028.63  \n0  122.333  122.333  120.333  \n1  125.333  126.667  132.667  \n\n[2 rows x 44 columns]"
     },
     "execution_count": 5,
     "metadata": {},
     "output_type": "execute_result"
    }
   ],
   "source": [
    "\n",
    "radius = 1\n",
    "frequency = [1005, 2000]\n",
    "range = {'rangeX': [-radius, radius],\n",
    "        'rangeY': [-radius, radius]}\n",
    "\n",
    "df['x'] = pd.to_numeric(df['x'])\n",
    "df['y'] = pd.to_numeric(df['y'])\n",
    "mask = ((df['x'] >= range['rangeX'][0]) & (df['x'] <= range['rangeX'][1]) &\n",
    "        (df['y'] >= range['rangeY'][0]) & (df['y'] <= range['rangeY'][1]))\n",
    "df = df.loc[mask]\n",
    "df.head()"
   ]
  },
  {
   "cell_type": "code",
   "execution_count": 6,
   "metadata": {},
   "outputs": [
    {
     "data": {
      "text/html": "<div>\n<style scoped>\n    .dataframe tbody tr th:only-of-type {\n        vertical-align: middle;\n    }\n\n    .dataframe tbody tr th {\n        vertical-align: top;\n    }\n\n    .dataframe thead th {\n        text-align: right;\n    }\n</style>\n<table border=\"1\" class=\"dataframe\">\n  <thead>\n    <tr style=\"text-align: right;\">\n      <th></th>\n      <th>x</th>\n      <th>y</th>\n      <th>frequency</th>\n      <th>intensity</th>\n    </tr>\n  </thead>\n  <tbody>\n    <tr>\n      <th>1</th>\n      <td>0</td>\n      <td>0</td>\n      <td>1000.57</td>\n      <td>132.000</td>\n    </tr>\n    <tr>\n      <th>3</th>\n      <td>0</td>\n      <td>0</td>\n      <td>1001.27</td>\n      <td>132.667</td>\n    </tr>\n    <tr>\n      <th>5</th>\n      <td>0</td>\n      <td>0</td>\n      <td>1001.98</td>\n      <td>116.667</td>\n    </tr>\n    <tr>\n      <th>7</th>\n      <td>0</td>\n      <td>0</td>\n      <td>1002.68</td>\n      <td>119.667</td>\n    </tr>\n    <tr>\n      <th>9</th>\n      <td>0</td>\n      <td>0</td>\n      <td>1003.38</td>\n      <td>123.000</td>\n    </tr>\n    <tr>\n      <th>...</th>\n      <td>...</td>\n      <td>...</td>\n      <td>...</td>\n      <td>...</td>\n    </tr>\n    <tr>\n      <th>72</th>\n      <td>1</td>\n      <td>0</td>\n      <td>1025.84</td>\n      <td>128.000</td>\n    </tr>\n    <tr>\n      <th>74</th>\n      <td>1</td>\n      <td>0</td>\n      <td>1026.54</td>\n      <td>121.667</td>\n    </tr>\n    <tr>\n      <th>76</th>\n      <td>1</td>\n      <td>0</td>\n      <td>1027.24</td>\n      <td>122.333</td>\n    </tr>\n    <tr>\n      <th>78</th>\n      <td>1</td>\n      <td>0</td>\n      <td>1027.94</td>\n      <td>122.333</td>\n    </tr>\n    <tr>\n      <th>80</th>\n      <td>1</td>\n      <td>0</td>\n      <td>1028.63</td>\n      <td>120.333</td>\n    </tr>\n  </tbody>\n</table>\n<p>82 rows × 4 columns</p>\n</div>",
      "text/plain": "    x  y frequency  intensity\n1   0  0   1000.57    132.000\n3   0  0   1001.27    132.667\n5   0  0   1001.98    116.667\n7   0  0   1002.68    119.667\n9   0  0   1003.38    123.000\n.. .. ..       ...        ...\n72  1  0   1025.84    128.000\n74  1  0   1026.54    121.667\n76  1  0   1027.24    122.333\n78  1  0   1027.94    122.333\n80  1  0   1028.63    120.333\n\n[82 rows x 4 columns]"
     },
     "execution_count": 6,
     "metadata": {},
     "output_type": "execute_result"
    }
   ],
   "source": [
    "df2 = pd.melt(df.iloc[:,1:], id_vars=['x', 'y'], var_name='frequency', value_name='intensity')\n",
    "df2 = df2.sort_values(['x', 'y', 'frequency'])\n",
    "df2"
   ]
  },
  {
   "cell_type": "code",
   "execution_count": 7,
   "metadata": {},
   "outputs": [
    {
     "data": {
      "text/html": "<div>\n<style scoped>\n    .dataframe tbody tr th:only-of-type {\n        vertical-align: middle;\n    }\n\n    .dataframe tbody tr th {\n        vertical-align: top;\n    }\n\n    .dataframe thead th {\n        text-align: right;\n    }\n</style>\n<table border=\"1\" class=\"dataframe\">\n  <thead>\n    <tr style=\"text-align: right;\">\n      <th></th>\n      <th>x</th>\n      <th>y</th>\n      <th>frequency</th>\n      <th>intensity</th>\n    </tr>\n  </thead>\n  <tbody>\n    <tr>\n      <th>15</th>\n      <td>0</td>\n      <td>0</td>\n      <td>1005.50</td>\n      <td>138.333</td>\n    </tr>\n    <tr>\n      <th>17</th>\n      <td>0</td>\n      <td>0</td>\n      <td>1006.20</td>\n      <td>127.000</td>\n    </tr>\n    <tr>\n      <th>19</th>\n      <td>0</td>\n      <td>0</td>\n      <td>1006.90</td>\n      <td>127.333</td>\n    </tr>\n    <tr>\n      <th>21</th>\n      <td>0</td>\n      <td>0</td>\n      <td>1007.60</td>\n      <td>137.667</td>\n    </tr>\n    <tr>\n      <th>23</th>\n      <td>0</td>\n      <td>0</td>\n      <td>1008.31</td>\n      <td>138.667</td>\n    </tr>\n    <tr>\n      <th>...</th>\n      <td>...</td>\n      <td>...</td>\n      <td>...</td>\n      <td>...</td>\n    </tr>\n    <tr>\n      <th>72</th>\n      <td>1</td>\n      <td>0</td>\n      <td>1025.84</td>\n      <td>128.000</td>\n    </tr>\n    <tr>\n      <th>74</th>\n      <td>1</td>\n      <td>0</td>\n      <td>1026.54</td>\n      <td>121.667</td>\n    </tr>\n    <tr>\n      <th>76</th>\n      <td>1</td>\n      <td>0</td>\n      <td>1027.24</td>\n      <td>122.333</td>\n    </tr>\n    <tr>\n      <th>78</th>\n      <td>1</td>\n      <td>0</td>\n      <td>1027.94</td>\n      <td>122.333</td>\n    </tr>\n    <tr>\n      <th>80</th>\n      <td>1</td>\n      <td>0</td>\n      <td>1028.63</td>\n      <td>120.333</td>\n    </tr>\n  </tbody>\n</table>\n<p>68 rows × 4 columns</p>\n</div>",
      "text/plain": "    x  y  frequency  intensity\n15  0  0    1005.50    138.333\n17  0  0    1006.20    127.000\n19  0  0    1006.90    127.333\n21  0  0    1007.60    137.667\n23  0  0    1008.31    138.667\n.. .. ..        ...        ...\n72  1  0    1025.84    128.000\n74  1  0    1026.54    121.667\n76  1  0    1027.24    122.333\n78  1  0    1027.94    122.333\n80  1  0    1028.63    120.333\n\n[68 rows x 4 columns]"
     },
     "execution_count": 7,
     "metadata": {},
     "output_type": "execute_result"
    }
   ],
   "source": [
    "\n",
    "df2['frequency'] = pd.to_numeric(df2['frequency'])\n",
    "mask = ((df2['frequency'] >= frequency[0]) & (df2['frequency'] <= frequency[1]))\n",
    "df2 = df2.loc[mask]\n",
    "df2"
   ]
  },
  {
   "cell_type": "code",
   "execution_count": 8,
   "metadata": {},
   "outputs": [
    {
     "data": {
      "text/html": "<div>\n<style scoped>\n    .dataframe tbody tr th:only-of-type {\n        vertical-align: middle;\n    }\n\n    .dataframe tbody tr th {\n        vertical-align: top;\n    }\n\n    .dataframe thead th {\n        text-align: right;\n    }\n</style>\n<table border=\"1\" class=\"dataframe\">\n  <thead>\n    <tr style=\"text-align: right;\">\n      <th>frequency</th>\n      <th>x</th>\n      <th>y</th>\n      <th>1005.5</th>\n      <th>1006.2</th>\n      <th>1006.9</th>\n      <th>1007.6</th>\n      <th>1008.31</th>\n      <th>1009.01</th>\n      <th>1009.71</th>\n      <th>1010.41</th>\n      <th>...</th>\n      <th>1022.34</th>\n      <th>1023.04</th>\n      <th>1023.74</th>\n      <th>1024.44</th>\n      <th>1025.14</th>\n      <th>1025.84</th>\n      <th>1026.54</th>\n      <th>1027.24</th>\n      <th>1027.94</th>\n      <th>1028.63</th>\n    </tr>\n  </thead>\n  <tbody>\n    <tr>\n      <th>0</th>\n      <td>0</td>\n      <td>0</td>\n      <td>138.333</td>\n      <td>127.000</td>\n      <td>127.333</td>\n      <td>137.667</td>\n      <td>138.667</td>\n      <td>137.667</td>\n      <td>129.667</td>\n      <td>148.667</td>\n      <td>...</td>\n      <td>144.000</td>\n      <td>136.667</td>\n      <td>125.000</td>\n      <td>130.667</td>\n      <td>142.667</td>\n      <td>129.667</td>\n      <td>133.000</td>\n      <td>125.333</td>\n      <td>126.667</td>\n      <td>132.667</td>\n    </tr>\n    <tr>\n      <th>1</th>\n      <td>1</td>\n      <td>0</td>\n      <td>123.000</td>\n      <td>132.333</td>\n      <td>122.333</td>\n      <td>120.000</td>\n      <td>125.000</td>\n      <td>122.667</td>\n      <td>128.333</td>\n      <td>147.667</td>\n      <td>...</td>\n      <td>148.333</td>\n      <td>131.333</td>\n      <td>121.667</td>\n      <td>130.667</td>\n      <td>126.667</td>\n      <td>128.000</td>\n      <td>121.667</td>\n      <td>122.333</td>\n      <td>122.333</td>\n      <td>120.333</td>\n    </tr>\n  </tbody>\n</table>\n<p>2 rows × 36 columns</p>\n</div>",
      "text/plain": "frequency  x  y   1005.5   1006.2   1006.9   1007.6  1008.31  1009.01  \\\n0          0  0  138.333  127.000  127.333  137.667  138.667  137.667   \n1          1  0  123.000  132.333  122.333  120.000  125.000  122.667   \n\nfrequency  1009.71  1010.41  ...  1022.34  1023.04  1023.74  1024.44  1025.14  \\\n0          129.667  148.667  ...  144.000  136.667  125.000  130.667  142.667   \n1          128.333  147.667  ...  148.333  131.333  121.667  130.667  126.667   \n\nfrequency  1025.84  1026.54  1027.24  1027.94  1028.63  \n0          129.667  133.000  125.333  126.667  132.667  \n1          128.000  121.667  122.333  122.333  120.333  \n\n[2 rows x 36 columns]"
     },
     "execution_count": 8,
     "metadata": {},
     "output_type": "execute_result"
    }
   ],
   "source": [
    "df3 = pd.pivot_table(df2,values='intensity',index=['x','y'],columns='frequency').reset_index()\n",
    "df3"
   ]
  },
  {
   "cell_type": "code",
   "execution_count": null,
   "metadata": {},
   "outputs": [],
   "source": []
  }
 ],
 "metadata": {
  "kernelspec": {
   "display_name": "Python 3",
   "language": "python",
   "name": "python3"
  },
  "language_info": {
   "codemirror_mode": {
    "name": "ipython",
    "version": 3
   },
   "file_extension": ".py",
   "mimetype": "text/x-python",
   "name": "python",
   "nbconvert_exporter": "python",
   "pygments_lexer": "ipython3",
   "version": "3.8.7"
  },
  "orig_nbformat": 2
 },
 "nbformat": 4,
 "nbformat_minor": 2
}