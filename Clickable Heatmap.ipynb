{
 "cells": [
  {
   "cell_type": "code",
   "execution_count": 4,
   "id": "statistical-player",
   "metadata": {},
   "outputs": [
    {
     "data": {
      "application/vnd.jupyter.widget-view+json": {
       "model_id": "19a2e54e67e0470fab78f2943d469034",
       "version_major": 2,
       "version_minor": 0
      },
      "text/plain": [
       "FigureWidget({\n",
       "    'data': [{'type': 'heatmap', 'uid': 'd3f69d43-42d9-4e1c-ad4e-1eac50c4b7ce', 'z': array([[1,…"
      ]
     },
     "metadata": {},
     "output_type": "display_data"
    },
    {
     "name": "stdout",
     "output_type": "stream",
     "text": [
      "Heatmap({\n",
      "    'uid': 'd3f69d43-42d9-4e1c-ad4e-1eac50c4b7ce', 'z': array([[1, 2],\n",
      "          [3, 4]])\n",
      "});Points(point_inds=[[1, 0]],\n",
      "       xs=[0],\n",
      "       ys=[1],\n",
      "       trace_name='trace 0',\n",
      "       trace_index=0);InputDeviceState(\n",
      "    ctrl=False, \n",
      "    alt=False, \n",
      "    shift=False, \n",
      "    meta=False, \n",
      "    button=0, \n",
      "    buttons=1)\n",
      "Heatmap({\n",
      "    'uid': 'd3f69d43-42d9-4e1c-ad4e-1eac50c4b7ce', 'z': array([[1, 2],\n",
      "          [3, 4]])\n",
      "});Points(point_inds=[[1, 1]],\n",
      "       xs=[1],\n",
      "       ys=[1],\n",
      "       trace_name='trace 0',\n",
      "       trace_index=0);InputDeviceState(\n",
      "    ctrl=False, \n",
      "    alt=False, \n",
      "    shift=False, \n",
      "    meta=False, \n",
      "    button=0, \n",
      "    buttons=1)\n",
      "Heatmap({\n",
      "    'uid': 'd3f69d43-42d9-4e1c-ad4e-1eac50c4b7ce', 'z': array([[1, 2],\n",
      "          [3, 4]])\n",
      "});Points(point_inds=[[1, 1]],\n",
      "       xs=[1],\n",
      "       ys=[1],\n",
      "       trace_name='trace 0',\n",
      "       trace_index=0);InputDeviceState(\n",
      "    ctrl=False, \n",
      "    alt=False, \n",
      "    shift=False, \n",
      "    meta=False, \n",
      "    button=0, \n",
      "    buttons=1)\n",
      "Heatmap({\n",
      "    'uid': 'd3f69d43-42d9-4e1c-ad4e-1eac50c4b7ce', 'z': array([[1, 2],\n",
      "          [3, 4]])\n",
      "});Points(point_inds=[[1, 0]],\n",
      "       xs=[0],\n",
      "       ys=[1],\n",
      "       trace_name='trace 0',\n",
      "       trace_index=0);InputDeviceState(\n",
      "    ctrl=False, \n",
      "    alt=False, \n",
      "    shift=False, \n",
      "    meta=False, \n",
      "    button=0, \n",
      "    buttons=1)\n",
      "Heatmap({\n",
      "    'uid': 'd3f69d43-42d9-4e1c-ad4e-1eac50c4b7ce', 'z': array([[1, 2],\n",
      "          [3, 4]])\n",
      "});Points(point_inds=[[0, 0]],\n",
      "       xs=[0],\n",
      "       ys=[0],\n",
      "       trace_name='trace 0',\n",
      "       trace_index=0);InputDeviceState(\n",
      "    ctrl=False, \n",
      "    alt=False, \n",
      "    shift=False, \n",
      "    meta=False, \n",
      "    button=0, \n",
      "    buttons=1)\n",
      "Heatmap({\n",
      "    'uid': 'd3f69d43-42d9-4e1c-ad4e-1eac50c4b7ce', 'z': array([[1, 2],\n",
      "          [3, 4]])\n",
      "});Points(point_inds=[[0, 0]],\n",
      "       xs=[0],\n",
      "       ys=[0],\n",
      "       trace_name='trace 0',\n",
      "       trace_index=0);InputDeviceState(\n",
      "    ctrl=False, \n",
      "    alt=False, \n",
      "    shift=False, \n",
      "    meta=False, \n",
      "    button=0, \n",
      "    buttons=1)\n"
     ]
    }
   ],
   "source": [
    "import numpy as np\n",
    "import plotly.graph_objects as go\n",
    "\n",
    "L = np.array([[1, 2], [3, 4]])\n",
    "f = go.FigureWidget()\n",
    "f.add_trace(go.Heatmap(z=L))\n",
    "f['layout'].update(width=500, height=500, autosize=False)\n",
    "def click_callback(trace, points, selector):\n",
    "    print(f'{trace};{points};{selector}')\n",
    "f.data[0].on_click(click_callback)\n",
    "f"
   ]
  },
  {
   "cell_type": "code",
   "execution_count": null,
   "id": "loose-remedy",
   "metadata": {},
   "outputs": [],
   "source": []
  }
 ],
 "metadata": {
  "kernelspec": {
   "display_name": "Python 3",
   "language": "python",
   "name": "python3"
  },
  "language_info": {
   "codemirror_mode": {
    "name": "ipython",
    "version": 3
   },
   "file_extension": ".py",
   "mimetype": "text/x-python",
   "name": "python",
   "nbconvert_exporter": "python",
   "pygments_lexer": "ipython3",
   "version": "3.8.7"
  }
 },
 "nbformat": 4,
 "nbformat_minor": 5
}
